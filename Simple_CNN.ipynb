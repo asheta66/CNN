{
  "nbformat": 4,
  "nbformat_minor": 0,
  "metadata": {
    "colab": {
      "name": "Simple_CNN.ipynb",
      "provenance": [],
      "authorship_tag": "ABX9TyMubDGWR6Sb9JhJHRffc4SC",
      "include_colab_link": true
    },
    "kernelspec": {
      "name": "python3",
      "display_name": "Python 3"
    },
    "language_info": {
      "name": "python"
    }
  },
  "cells": [
    {
      "cell_type": "markdown",
      "metadata": {
        "id": "view-in-github",
        "colab_type": "text"
      },
      "source": [
        "<a href=\"https://colab.research.google.com/github/asheta66/CNN/blob/main/Simple_CNN.ipynb\" target=\"_parent\"><img src=\"https://colab.research.google.com/assets/colab-badge.svg\" alt=\"Open In Colab\"/></a>"
      ]
    },
    {
      "cell_type": "code",
      "execution_count": 63,
      "metadata": {
        "id": "Ka5WK9CtWx-m"
      },
      "outputs": [],
      "source": [
        "# Create first network with Keras\n",
        "from keras.models import Sequential\n",
        "from keras.layers import Dense\n",
        "import pandas as pd\n",
        "import numpy\n",
        "# fix random seed for reproducibility\n",
        "seed = 7\n",
        "numpy.random.seed(seed)\n",
        "# load pima indians dataset\n",
        "df = pd.read_csv('https://raw.githubusercontent.com/asheta66/Machine-Learning-2022/main/Classification/diabetes.csv')"
      ]
    },
    {
      "cell_type": "code",
      "source": [
        "# data size\n",
        "[n, m] = df.shape\n",
        "n, m"
      ],
      "metadata": {
        "colab": {
          "base_uri": "https://localhost:8080/"
        },
        "id": "qRKsFcGQZd23",
        "outputId": "a409ba2e-d873-4a49-ae60-6b82afbc281c"
      },
      "execution_count": 64,
      "outputs": [
        {
          "output_type": "execute_result",
          "data": {
            "text/plain": [
              "(768, 9)"
            ]
          },
          "metadata": {},
          "execution_count": 64
        }
      ]
    },
    {
      "cell_type": "code",
      "source": [
        "# split into input (X) and output (Y) variables\n",
        "X = df.iloc[:, 0:m-1].values\n",
        "y = df.iloc[:, m-1].values"
      ],
      "metadata": {
        "id": "kj1C5fw9WypS"
      },
      "execution_count": 65,
      "outputs": []
    },
    {
      "cell_type": "code",
      "source": [
        "X.shape, y.shape"
      ],
      "metadata": {
        "colab": {
          "base_uri": "https://localhost:8080/"
        },
        "id": "aFTrlxrjeWxI",
        "outputId": "58a5146f-5701-4723-aa71-c9d27cbe6497"
      },
      "execution_count": 66,
      "outputs": [
        {
          "output_type": "execute_result",
          "data": {
            "text/plain": [
              "((768, 8), (768,))"
            ]
          },
          "metadata": {},
          "execution_count": 66
        }
      ]
    },
    {
      "cell_type": "code",
      "source": [
        "# Splitting the dataset into the Training set and Test set\n",
        "\n",
        "from sklearn.model_selection import train_test_split\n",
        "X_train, X_test, y_train, y_test = train_test_split(X, y, test_size = 0.25, random_state = 0)"
      ],
      "metadata": {
        "id": "ksGe1mower-N"
      },
      "execution_count": 67,
      "outputs": []
    },
    {
      "cell_type": "code",
      "source": [
        "import tensorflow as tf\n",
        "\n",
        "model = Sequential()\n",
        "model.add(Dense(20, input_dim=m-1, activation='sigmoid'))\n",
        "model.add(Dense(10, activation='sigmoid'))\n",
        "model.add(Dense(10, activation='sigmoid'))\n",
        "model.add(Dense(1, activation='relu'))\n",
        "model.summary()"
      ],
      "metadata": {
        "id": "wn0T-6XhbD_G",
        "outputId": "94ef88be-853b-40de-f205-d7ac4575652d",
        "colab": {
          "base_uri": "https://localhost:8080/"
        }
      },
      "execution_count": 102,
      "outputs": [
        {
          "output_type": "stream",
          "name": "stdout",
          "text": [
            "Model: \"sequential_12\"\n",
            "_________________________________________________________________\n",
            " Layer (type)                Output Shape              Param #   \n",
            "=================================================================\n",
            " dense_34 (Dense)            (None, 20)                180       \n",
            "                                                                 \n",
            " dense_35 (Dense)            (None, 10)                210       \n",
            "                                                                 \n",
            " dense_36 (Dense)            (None, 10)                110       \n",
            "                                                                 \n",
            " dense_37 (Dense)            (None, 1)                 11        \n",
            "                                                                 \n",
            "=================================================================\n",
            "Total params: 511\n",
            "Trainable params: 511\n",
            "Non-trainable params: 0\n",
            "_________________________________________________________________\n"
          ]
        }
      ]
    },
    {
      "cell_type": "code",
      "source": [
        "# Compile model\n",
        "model.compile(\n",
        "            optimizer='adam',\n",
        "            loss='binary_crossentropy', \n",
        "            metrics=['accuracy'],\n",
        "            loss_weights=None,\n",
        "            weighted_metrics=None,\n",
        "            run_eagerly=None,\n",
        "            steps_per_execution=20,\n",
        "            jit_compile=None,\n",
        "        )\n",
        "\n",
        "# Fit the model\n",
        "history = model.fit(\n",
        "                            X_train,\n",
        "                            y_train,\n",
        "                            batch_size=20,\n",
        "                            epochs=300,\n",
        "                            steps_per_epoch=5,\n",
        "                            validation_steps = 1,\n",
        "                            # We pass some validation for\n",
        "                            # monitoring validation loss and metrics\n",
        "                            # at the end of each epoch\n",
        "                            validation_data=(X_test, y_test)\n",
        "                            )"
      ],
      "metadata": {
        "id": "14WA4Mw-2w16"
      },
      "execution_count": null,
      "outputs": []
    },
    {
      "cell_type": "code",
      "source": [
        "# plot loss during training\n",
        "import matplotlib.pyplot as plt\n",
        "\n",
        "fig, axs = plt.subplots(figsize=(7,5), tight_layout=True)\n",
        "plt.title('Loss/Mean Absolute Error')\n",
        "plt.plot(history.history['loss'], label='Train')\n",
        "plt.plot(history.history['val_loss'], label='Test')\n",
        "plt.legend(fancybox=True, framealpha=1, shadow=True, borderpad=1, frameon=True, loc='upper center', ncol=2)\n",
        "plt.grid(True)\n",
        "plt.show()\n"
      ],
      "metadata": {
        "colab": {
          "base_uri": "https://localhost:8080/",
          "height": 369
        },
        "id": "3ktJqstDgHyn",
        "outputId": "3d186f51-60d3-431d-d4e3-2011c06719da"
      },
      "execution_count": 106,
      "outputs": [
        {
          "output_type": "display_data",
          "data": {
            "text/plain": [
              "<Figure size 504x360 with 1 Axes>"
            ],
            "image/png": "[encoded data removed]"
          },
          "metadata": {
            "needs_background": "light"
          }
        }
      ]
    },
    {
      "cell_type": "code",
      "source": [
        "# Model evaluate\n",
        "model.evaluate(X_train,  y_train)"
      ],
      "metadata": {
        "colab": {
          "base_uri": "https://localhost:8080/"
        },
        "id": "osoWZSqlff43",
        "outputId": "548aaa71-4e67-4e73-9306-743edf0127c5"
      },
      "execution_count": 99,
      "outputs": [
        {
          "output_type": "stream",
          "name": "stdout",
          "text": [
            "18/18 [==============================] - 0s 14ms/step - loss: 0.4809 - accuracy: 0.7535\n"
          ]
        },
        {
          "output_type": "execute_result",
          "data": {
            "text/plain": [
              "[0.4808962047100067, 0.7534722089767456]"
            ]
          },
          "metadata": {},
          "execution_count": 99
        }
      ]
    },
    {
      "cell_type": "code",
      "source": [
        "model.evaluate(X_test,  y_test)"
      ],
      "metadata": {
        "colab": {
          "base_uri": "https://localhost:8080/"
        },
        "id": "-KClavCpgkJ3",
        "outputId": "42bc7920-faa4-498f-bd8c-bf78796db7af"
      },
      "execution_count": 72,
      "outputs": [
        {
          "output_type": "stream",
          "name": "stdout",
          "text": [
            "6/6 [==============================] - 0s 4ms/step - loss: 0.6771 - accuracy: 0.3229\n"
          ]
        },
        {
          "output_type": "execute_result",
          "data": {
            "text/plain": [
              "[0.6770833134651184, 0.3229166567325592]"
            ]
          },
          "metadata": {},
          "execution_count": 72
        }
      ]
    },
    {
      "cell_type": "code",
      "source": [
        "# create model\n",
        "import tensorflow as tf\n",
        "from tensorflow import keras\n",
        "from tensorflow.keras import layers\n",
        "\n",
        "# Define Sequential model with 3 layers\n",
        "model2 = Sequential()\n",
        "model2.add(Dense(12, input_dim=m-1, activation='relu'))\n",
        "model2.add(Dense(8, activation='relu'))\n",
        "model2.add(Dense(1, activation='sigmoid'))\n",
        "\n",
        "# Compile model\n",
        "model2.compile(\n",
        "            optimizer='rmsprop',\n",
        "            loss='binary_crossentropy', \n",
        "            metrics=['accuracy'],\n",
        "            loss_weights=None,\n",
        "            weighted_metrics=None,\n",
        "            run_eagerly=None,\n",
        "            steps_per_execution=5,\n",
        "            jit_compile=None,\n",
        "        )\n",
        "\n",
        "# Fit the model\n",
        "history2 = model2.fit(\n",
        "                    x=X_train,\n",
        "                    y=y_train,\n",
        "                    batch_size=64,\n",
        "                    epochs=300,\n",
        "                    verbose='auto',\n",
        "                    callbacks=None,\n",
        "                    validation_split=0.0,\n",
        "                    validation_data=(X_test, y_test),\n",
        "                    shuffle=True,\n",
        "                    class_weight=None,\n",
        "                    sample_weight=None,\n",
        "                    initial_epoch=0,\n",
        "                    steps_per_epoch=1,\n",
        "                    validation_steps=1,\n",
        "                    validation_batch_size=None,\n",
        "                    validation_freq=1,\n",
        "                    max_queue_size=10,\n",
        "                    workers=1,\n",
        "                    use_multiprocessing=False\n",
        "                )\n"
      ],
      "metadata": {
        "id": "9jvWqr4PZmwV"
      },
      "execution_count": null,
      "outputs": []
    },
    {
      "cell_type": "code",
      "source": [
        "# plot loss during training\n",
        "import matplotlib.pyplot as plt\n",
        "\n",
        "fig, axs = plt.subplots(figsize=(7,5), tight_layout=True)\n",
        "plt.title('Loss/Mean Absolute Error')\n",
        "plt.plot(history2.history['loss'], label='Train')\n",
        "plt.plot(history2.history['val_loss'], label='Test')\n",
        "plt.legend(fancybox=True, framealpha=1, shadow=True, borderpad=1, frameon=True, loc='upper center', ncol=2)\n",
        "plt.grid(True)\n",
        "plt.show()"
      ],
      "metadata": {
        "colab": {
          "base_uri": "https://localhost:8080/",
          "height": 369
        },
        "outputId": "4a259771-3400-4564-c3ed-4de0a48e68d4",
        "id": "PDWP0HcUhFHm"
      },
      "execution_count": 107,
      "outputs": [
        {
          "output_type": "display_data",
          "data": {
            "text/plain": [
              "<Figure size 504x360 with 1 Axes>"
            ],
            "image/png": "[encoded data removed]"
          },
          "metadata": {
            "needs_background": "light"
          }
        }
      ]
    },
    {
      "cell_type": "code",
      "source": [
        "model2.summary()"
      ],
      "metadata": {
        "colab": {
          "base_uri": "https://localhost:8080/"
        },
        "id": "00TApKiHc8lP",
        "outputId": "b78aa4eb-d6bf-4c0c-be5b-1fc2c042820f"
      },
      "execution_count": 75,
      "outputs": [
        {
          "output_type": "stream",
          "name": "stdout",
          "text": [
            "Model: \"sequential_7\"\n",
            "_________________________________________________________________\n",
            " Layer (type)                Output Shape              Param #   \n",
            "=================================================================\n",
            " dense_19 (Dense)            (None, 12)                108       \n",
            "                                                                 \n",
            " dense_20 (Dense)            (None, 8)                 104       \n",
            "                                                                 \n",
            " dense_21 (Dense)            (None, 1)                 9         \n",
            "                                                                 \n",
            "=================================================================\n",
            "Total params: 221\n",
            "Trainable params: 221\n",
            "Non-trainable params: 0\n",
            "_________________________________________________________________\n"
          ]
        }
      ]
    },
    {
      "cell_type": "code",
      "source": [
        "# Model evaluate\n",
        "model2.evaluate(X_train,  y_train)"
      ],
      "metadata": {
        "colab": {
          "base_uri": "https://localhost:8080/"
        },
        "id": "yp4Pd58MhVal",
        "outputId": "b49f6ced-72cf-47bc-f60b-dc1d80c65732"
      },
      "execution_count": 76,
      "outputs": [
        {
          "output_type": "stream",
          "name": "stdout",
          "text": [
            "18/18 [==============================] - 0s 7ms/step - loss: 0.7828 - accuracy: 0.5391\n"
          ]
        },
        {
          "output_type": "execute_result",
          "data": {
            "text/plain": [
              "[0.7828455567359924, 0.5390625]"
            ]
          },
          "metadata": {},
          "execution_count": 76
        }
      ]
    },
    {
      "cell_type": "code",
      "source": [
        "# Model evaluate\n",
        "model2.evaluate(X_test,  y_test)"
      ],
      "metadata": {
        "colab": {
          "base_uri": "https://localhost:8080/"
        },
        "id": "0WN62k3ihWNW",
        "outputId": "7ce1221c-6ebc-4ff3-972e-32505323da60"
      },
      "execution_count": 77,
      "outputs": [
        {
          "output_type": "stream",
          "name": "stdout",
          "text": [
            "6/6 [==============================] - 0s 5ms/step - loss: 0.8034 - accuracy: 0.5625\n"
          ]
        },
        {
          "output_type": "execute_result",
          "data": {
            "text/plain": [
              "[0.8033648729324341, 0.5625]"
            ]
          },
          "metadata": {},
          "execution_count": 77
        }
      ]
    }
  ]
}