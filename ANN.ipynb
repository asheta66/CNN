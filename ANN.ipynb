{
  "nbformat": 4,
  "nbformat_minor": 0,
  "metadata": {
    "colab": {
      "name": "ANN.ipynb",
      "provenance": [],
      "collapsed_sections": [],
      "include_colab_link": true
    },
    "kernelspec": {
      "name": "python3",
      "display_name": "Python 3"
    }
  },
  "cells": [
    {
      "cell_type": "markdown",
      "metadata": {
        "id": "view-in-github",
        "colab_type": "text"
      },
      "source": [
        "<a href=\"https://colab.research.google.com/github/asheta66/CNN/blob/main/ANN.ipynb\" target=\"_parent\"><img src=\"https://colab.research.google.com/assets/colab-badge.svg\" alt=\"Open In Colab\"/></a>"
      ]
    },
    {
      "cell_type": "code",
      "source": [
        "!pip install -q keras"
      ],
      "metadata": {
        "id": "bPyD-DO9I_as"
      },
      "execution_count": null,
      "outputs": []
    },
    {
      "cell_type": "code",
      "metadata": {
        "id": "iZIRZg-rgkzz"
      },
      "source": [
        "# MLP for regression with mse loss function\n",
        "from sklearn.datasets import make_regression\n",
        "from sklearn.preprocessing import StandardScaler\n",
        "from keras.models import Sequential\n",
        "from keras.layers import Dense\n",
        "from tensorflow.keras.optimizers import SGD\n",
        "from matplotlib import pyplot\n",
        "import numpy as np\n",
        "import matplotlib.pyplot as plt\n",
        "import pandas as pd\n",
        "import seaborn as sns\n",
        "\n",
        "# Importing the datasets\n",
        "import sklearn.datasets\n",
        "gila_river = pd.read_csv(\"https://raw.githubusercontent.com/asheta66/Machine-Learning-2022/main/Multiple%20Linear%20Regression/GilaRiverFlow.csv\")\n",
        "X = gila_river.iloc[:,:-1].values\n",
        "y = gila_river.iloc[:,3].values\n",
        "gila_river.head()"
      ],
      "execution_count": null,
      "outputs": []
    },
    {
      "cell_type": "code",
      "source": [
        "X"
      ],
      "metadata": {
        "id": "IkBGcpYBNlLQ"
      },
      "execution_count": null,
      "outputs": []
    },
    {
      "cell_type": "code",
      "source": [
        "y"
      ],
      "metadata": {
        "id": "uivPC223NleP"
      },
      "execution_count": null,
      "outputs": []
    },
    {
      "cell_type": "code",
      "source": [
        "# Drawing river flow\n",
        "\n",
        "fig, axs = plt.subplots(figsize=(10, 4), tight_layout=True)\n",
        "plt.plot(y, '-b')\n",
        "plt.xlabel(r'$ Samples $', fontsize=12)\n",
        "plt.ylabel(r'$ Amplitute $', fontsize=12)\n",
        "plt.title(r'Gila River Flow', fontsize=12)\n",
        "plt.grid(True)\n",
        "plt.show()"
      ],
      "metadata": {
        "colab": {
          "base_uri": "https://localhost:8080/",
          "height": 297
        },
        "id": "9TO6dBXXJVkk",
        "outputId": "84945f48-37b0-4210-9862-22b5e78d1a9b"
      },
      "execution_count": null,
      "outputs": [
        {
          "output_type": "display_data",
          "data": {
            "text/plain": [
              "<Figure size 720x288 with 1 Axes>"
            ],
            "image/png": "[encoded data removed]"
          },
          "metadata": {
            "needs_background": "light"
          }
        }
      ]
    },
    {
      "cell_type": "code",
      "metadata": {
        "id": "fbyZsB7Qg0VS"
      },
      "source": [
        "# Splitting the dataset into the Training set and Test set\n",
        "from sklearn.model_selection import train_test_split\n",
        "X_train, X_test, y_train, y_test = train_test_split(X, y, test_size=0.2, random_state = 0)"
      ],
      "execution_count": null,
      "outputs": []
    },
    {
      "cell_type": "code",
      "source": [
        "X_train.shape, y_train.shape"
      ],
      "metadata": {
        "colab": {
          "base_uri": "https://localhost:8080/"
        },
        "id": "Am1yug_9RAIp",
        "outputId": "0724f4e5-b864-4b91-cd29-ab44433c211f"
      },
      "execution_count": null,
      "outputs": [
        {
          "output_type": "execute_result",
          "data": {
            "text/plain": [
              "((292, 3), (292,))"
            ]
          },
          "metadata": {},
          "execution_count": 7
        }
      ]
    },
    {
      "cell_type": "code",
      "source": [
        "# import TensorFlow\n",
        "import tensorflow as tf\n",
        "tf.__version__"
      ],
      "metadata": {
        "colab": {
          "base_uri": "https://localhost:8080/",
          "height": 37
        },
        "id": "19-8Ms3CSv8H",
        "outputId": "0e656a6e-16da-46de-8f64-69496cca9752"
      },
      "execution_count": null,
      "outputs": [
        {
          "output_type": "execute_result",
          "data": {
            "text/plain": [
              "'2.8.2'"
            ],
            "application/vnd.google.colaboratory.intrinsic+json": {
              "type": "string"
            }
          },
          "metadata": {},
          "execution_count": 8
        }
      ]
    },
    {
      "cell_type": "markdown",
      "source": [
        "**Improving our model**\n",
        "1. Create a model - we might wanst to add more layers or increase the number of hidden units within a layer\n",
        "\n",
        "2. Compiling a model - here we might want to choose a different optimization function such as Adam instead of SGD\n",
        "\n",
        "3. Fitting a model - perhaps we might fit our model for more epochs (leave it training for longer)"
      ],
      "metadata": {
        "id": "ij9kGXcFVDB5"
      }
    },
    {
      "cell_type": "code",
      "source": [
        "# Set the random seed\n",
        "tf.random.set_seed(42)\n",
        "\n",
        "# Create a model (with 3 layers)\n",
        "# This model will need some enhancements\n",
        "model = tf.keras.Sequential([\n",
        "   tf.keras.layers.Dense(100), # add 100 dense neurons\n",
        "   tf.keras.layers.Dense(10), # add another layers with 10 neurons\n",
        "   tf.keras.layers.Dense(1)\n",
        "])\n",
        "\n",
        "# Compile model\n",
        "model.compile(loss=\"mae\",\n",
        "                optimizer=tf.keras.optimizers.Adam(),\n",
        "                metrics=['accuracy'])\n",
        "\n",
        "history = model.fit(X_train, y_train, validation_data=(X_test, y_test), epochs=50)\n",
        "\n",
        "y_pred_train = model.predict(X_train)\n",
        "y_pred_test  = model.predict(X_test)"
      ],
      "metadata": {
        "colab": {
          "base_uri": "https://localhost:8080/"
        },
        "id": "ZP4NBy28SgTt",
        "outputId": "c2f436f9-6065-43af-9e6f-12f1d0f6bc14"
      },
      "execution_count": null,
      "outputs": [
        {
          "output_type": "stream",
          "name": "stdout",
          "text": [
            "Epoch 1/50\n",
            "10/10 [==============================] - 1s 31ms/step - loss: 45.1816 - accuracy: 0.0000e+00 - val_loss: 35.3007 - val_accuracy: 0.0000e+00\n",
            "Epoch 2/50\n",
            "10/10 [==============================] - 0s 9ms/step - loss: 31.0171 - accuracy: 0.0000e+00 - val_loss: 31.6732 - val_accuracy: 0.0000e+00\n",
            "Epoch 3/50\n",
            "10/10 [==============================] - 0s 9ms/step - loss: 30.3229 - accuracy: 0.0000e+00 - val_loss: 30.4679 - val_accuracy: 0.0000e+00\n",
            "Epoch 4/50\n",
            "10/10 [==============================] - 0s 11ms/step - loss: 29.6569 - accuracy: 0.0000e+00 - val_loss: 31.6817 - val_accuracy: 0.0000e+00\n",
            "Epoch 5/50\n",
            "10/10 [==============================] - 0s 10ms/step - loss: 29.3264 - accuracy: 0.0000e+00 - val_loss: 32.5652 - val_accuracy: 0.0000e+00\n",
            "Epoch 6/50\n",
            "10/10 [==============================] - 0s 12ms/step - loss: 28.7955 - accuracy: 0.0000e+00 - val_loss: 33.0111 - val_accuracy: 0.0000e+00\n",
            "Epoch 7/50\n",
            "10/10 [==============================] - 0s 6ms/step - loss: 28.4609 - accuracy: 0.0000e+00 - val_loss: 30.8597 - val_accuracy: 0.0000e+00\n",
            "Epoch 8/50\n",
            "10/10 [==============================] - 0s 5ms/step - loss: 28.2578 - accuracy: 0.0000e+00 - val_loss: 30.5927 - val_accuracy: 0.0000e+00\n",
            "Epoch 9/50\n",
            "10/10 [==============================] - 0s 5ms/step - loss: 28.8612 - accuracy: 0.0000e+00 - val_loss: 32.3775 - val_accuracy: 0.0000e+00\n",
            "Epoch 10/50\n",
            "10/10 [==============================] - 0s 5ms/step - loss: 28.1231 - accuracy: 0.0000e+00 - val_loss: 31.1249 - val_accuracy: 0.0000e+00\n",
            "Epoch 11/50\n",
            "10/10 [==============================] - 0s 5ms/step - loss: 27.9254 - accuracy: 0.0000e+00 - val_loss: 33.0040 - val_accuracy: 0.0000e+00\n",
            "Epoch 12/50\n",
            "10/10 [==============================] - 0s 7ms/step - loss: 29.1054 - accuracy: 0.0000e+00 - val_loss: 30.9175 - val_accuracy: 0.0000e+00\n",
            "Epoch 13/50\n",
            "10/10 [==============================] - 0s 5ms/step - loss: 28.5846 - accuracy: 0.0000e+00 - val_loss: 30.2485 - val_accuracy: 0.0000e+00\n",
            "Epoch 14/50\n",
            "10/10 [==============================] - 0s 5ms/step - loss: 29.3311 - accuracy: 0.0000e+00 - val_loss: 32.6830 - val_accuracy: 0.0000e+00\n",
            "Epoch 15/50\n",
            "10/10 [==============================] - 0s 5ms/step - loss: 28.2023 - accuracy: 0.0000e+00 - val_loss: 32.6569 - val_accuracy: 0.0000e+00\n",
            "Epoch 16/50\n",
            "10/10 [==============================] - 0s 7ms/step - loss: 28.0880 - accuracy: 0.0000e+00 - val_loss: 32.1868 - val_accuracy: 0.0000e+00\n",
            "Epoch 17/50\n",
            "10/10 [==============================] - 0s 6ms/step - loss: 27.8390 - accuracy: 0.0000e+00 - val_loss: 33.7202 - val_accuracy: 0.0000e+00\n",
            "Epoch 18/50\n",
            "10/10 [==============================] - 0s 5ms/step - loss: 29.0046 - accuracy: 0.0000e+00 - val_loss: 31.2442 - val_accuracy: 0.0000e+00\n",
            "Epoch 19/50\n",
            "10/10 [==============================] - 0s 6ms/step - loss: 27.6510 - accuracy: 0.0000e+00 - val_loss: 30.5941 - val_accuracy: 0.0000e+00\n",
            "Epoch 20/50\n",
            "10/10 [==============================] - 0s 5ms/step - loss: 28.6102 - accuracy: 0.0000e+00 - val_loss: 31.7977 - val_accuracy: 0.0000e+00\n",
            "Epoch 21/50\n",
            "10/10 [==============================] - 0s 6ms/step - loss: 27.9295 - accuracy: 0.0000e+00 - val_loss: 34.1415 - val_accuracy: 0.0000e+00\n",
            "Epoch 22/50\n",
            "10/10 [==============================] - 0s 5ms/step - loss: 38.5403 - accuracy: 0.0000e+00 - val_loss: 30.0054 - val_accuracy: 0.0000e+00\n",
            "Epoch 23/50\n",
            "10/10 [==============================] - 0s 7ms/step - loss: 30.4988 - accuracy: 0.0000e+00 - val_loss: 30.4122 - val_accuracy: 0.0000e+00\n",
            "Epoch 24/50\n",
            "10/10 [==============================] - 0s 7ms/step - loss: 28.6032 - accuracy: 0.0000e+00 - val_loss: 31.3968 - val_accuracy: 0.0000e+00\n",
            "Epoch 25/50\n",
            "10/10 [==============================] - 0s 5ms/step - loss: 27.5773 - accuracy: 0.0000e+00 - val_loss: 31.1856 - val_accuracy: 0.0000e+00\n",
            "Epoch 26/50\n",
            "10/10 [==============================] - 0s 6ms/step - loss: 27.3928 - accuracy: 0.0000e+00 - val_loss: 30.0474 - val_accuracy: 0.0000e+00\n",
            "Epoch 27/50\n",
            "10/10 [==============================] - 0s 5ms/step - loss: 29.3582 - accuracy: 0.0000e+00 - val_loss: 31.9372 - val_accuracy: 0.0000e+00\n",
            "Epoch 28/50\n",
            "10/10 [==============================] - 0s 7ms/step - loss: 29.6950 - accuracy: 0.0000e+00 - val_loss: 32.5568 - val_accuracy: 0.0000e+00\n",
            "Epoch 29/50\n",
            "10/10 [==============================] - 0s 5ms/step - loss: 29.8902 - accuracy: 0.0000e+00 - val_loss: 31.8470 - val_accuracy: 0.0000e+00\n",
            "Epoch 30/50\n",
            "10/10 [==============================] - 0s 5ms/step - loss: 27.8843 - accuracy: 0.0000e+00 - val_loss: 29.9458 - val_accuracy: 0.0000e+00\n",
            "Epoch 31/50\n",
            "10/10 [==============================] - 0s 7ms/step - loss: 27.3526 - accuracy: 0.0000e+00 - val_loss: 29.3729 - val_accuracy: 0.0000e+00\n",
            "Epoch 32/50\n",
            "10/10 [==============================] - 0s 7ms/step - loss: 27.2154 - accuracy: 0.0000e+00 - val_loss: 29.0522 - val_accuracy: 0.0000e+00\n",
            "Epoch 33/50\n",
            "10/10 [==============================] - 0s 5ms/step - loss: 27.4667 - accuracy: 0.0000e+00 - val_loss: 29.1171 - val_accuracy: 0.0000e+00\n",
            "Epoch 34/50\n",
            "10/10 [==============================] - 0s 5ms/step - loss: 27.6387 - accuracy: 0.0000e+00 - val_loss: 28.5667 - val_accuracy: 0.0000e+00\n",
            "Epoch 35/50\n",
            "10/10 [==============================] - 0s 7ms/step - loss: 27.4805 - accuracy: 0.0000e+00 - val_loss: 30.0596 - val_accuracy: 0.0000e+00\n",
            "Epoch 36/50\n",
            "10/10 [==============================] - 0s 7ms/step - loss: 27.5094 - accuracy: 0.0000e+00 - val_loss: 28.8555 - val_accuracy: 0.0000e+00\n",
            "Epoch 37/50\n",
            "10/10 [==============================] - 0s 6ms/step - loss: 27.2992 - accuracy: 0.0000e+00 - val_loss: 28.9535 - val_accuracy: 0.0000e+00\n",
            "Epoch 38/50\n",
            "10/10 [==============================] - 0s 5ms/step - loss: 27.3317 - accuracy: 0.0000e+00 - val_loss: 28.5462 - val_accuracy: 0.0000e+00\n",
            "Epoch 39/50\n",
            "10/10 [==============================] - 0s 6ms/step - loss: 27.2903 - accuracy: 0.0000e+00 - val_loss: 29.6254 - val_accuracy: 0.0000e+00\n",
            "Epoch 40/50\n",
            "10/10 [==============================] - 0s 5ms/step - loss: 27.2248 - accuracy: 0.0000e+00 - val_loss: 30.9319 - val_accuracy: 0.0000e+00\n",
            "Epoch 41/50\n",
            "10/10 [==============================] - 0s 6ms/step - loss: 29.1860 - accuracy: 0.0000e+00 - val_loss: 29.2879 - val_accuracy: 0.0000e+00\n",
            "Epoch 42/50\n",
            "10/10 [==============================] - 0s 5ms/step - loss: 30.3946 - accuracy: 0.0000e+00 - val_loss: 28.0761 - val_accuracy: 0.0000e+00\n",
            "Epoch 43/50\n",
            "10/10 [==============================] - 0s 6ms/step - loss: 27.5867 - accuracy: 0.0000e+00 - val_loss: 28.8215 - val_accuracy: 0.0000e+00\n",
            "Epoch 44/50\n",
            "10/10 [==============================] - 0s 7ms/step - loss: 28.8938 - accuracy: 0.0000e+00 - val_loss: 28.1809 - val_accuracy: 0.0000e+00\n",
            "Epoch 45/50\n",
            "10/10 [==============================] - 0s 5ms/step - loss: 28.0557 - accuracy: 0.0000e+00 - val_loss: 28.8445 - val_accuracy: 0.0000e+00\n",
            "Epoch 46/50\n",
            "10/10 [==============================] - 0s 5ms/step - loss: 27.3172 - accuracy: 0.0000e+00 - val_loss: 31.4324 - val_accuracy: 0.0000e+00\n",
            "Epoch 47/50\n",
            "10/10 [==============================] - 0s 7ms/step - loss: 28.7102 - accuracy: 0.0000e+00 - val_loss: 31.4488 - val_accuracy: 0.0000e+00\n",
            "Epoch 48/50\n",
            "10/10 [==============================] - 0s 7ms/step - loss: 27.7559 - accuracy: 0.0000e+00 - val_loss: 31.0788 - val_accuracy: 0.0000e+00\n",
            "Epoch 49/50\n",
            "10/10 [==============================] - 0s 5ms/step - loss: 27.5943 - accuracy: 0.0000e+00 - val_loss: 30.8592 - val_accuracy: 0.0000e+00\n",
            "Epoch 50/50\n",
            "10/10 [==============================] - 0s 7ms/step - loss: 28.0668 - accuracy: 0.0000e+00 - val_loss: 29.4669 - val_accuracy: 0.0000e+00\n"
          ]
        }
      ]
    },
    {
      "cell_type": "code",
      "source": [
        "history.history['accuracy']"
      ],
      "metadata": {
        "id": "_KjcNiU6txjj"
      },
      "execution_count": null,
      "outputs": []
    },
    {
      "cell_type": "code",
      "metadata": {
        "colab": {
          "base_uri": "https://localhost:8080/",
          "height": 577
        },
        "id": "F734sKubg5h4",
        "outputId": "cc4f25e7-897f-48c3-8c0d-832c7fa168b1"
      },
      "source": [
        "# plot loss during training\n",
        "fig, axs = plt.subplots(figsize=(6,4), tight_layout=True)\n",
        "plt.title('Loss/Mean Absolute Error')\n",
        "plt.plot(history.history['loss'], label='Train')\n",
        "plt.plot(history.history['val_loss'], label='Vaalidation')\n",
        "plt.legend(fancybox=True, framealpha=1, shadow=True, borderpad=1, frameon=True, loc='upper center', ncol=2)\n",
        "plt.grid(True)\n",
        "plt.show()\n",
        "\n",
        "# plot loss during training\n",
        "fig, axs = plt.subplots(figsize=(6,4), tight_layout=True)\n",
        "plt.plot(history.history['accuracy'], label='Train')\n",
        "plt.plot(history.history['val_accuracy'], label = 'Validation')\n",
        "plt.xlabel('Epoch')\n",
        "plt.ylabel('Accuracy')\n",
        "plt.ylim([0.5, 1])\n",
        "plt.legend(fancybox=True, framealpha=1, shadow=True, borderpad=1, frameon=True, loc='upper center', ncol=2)\n",
        "plt.grid(True)\n",
        "plt.show()"
      ],
      "execution_count": null,
      "outputs": [
        {
          "output_type": "display_data",
          "data": {
            "text/plain": [
              "<Figure size 432x288 with 1 Axes>"
            ],
            "image/png": "[encoded data removed]"
          },
          "metadata": {
            "needs_background": "light"
          }
        },
        {
          "output_type": "display_data",
          "data": {
            "text/plain": [
              "<Figure size 432x288 with 1 Axes>"
            ],
            "image/png": "[encoded data removed]"
          },
          "metadata": {
            "needs_background": "light"
          }
        }
      ]
    },
    {
      "cell_type": "code",
      "execution_count": null,
      "metadata": {
        "id": "UzEN6RMqHDxB"
      },
      "outputs": [],
      "source": [
        "# Calculating Performance Criteria\n",
        "from sklearn.metrics import mean_squared_error \n",
        "from sklearn.metrics import mean_absolute_error\n",
        "from sklearn.metrics import explained_variance_score\n",
        "\n",
        "mse1 = mean_squared_error(y_train, y_pred_train)\n",
        "mse2 = mean_squared_error(y_test, y_pred_test)\n",
        "\n",
        "mae1 = mean_absolute_error(y_train, y_pred_train)\n",
        "mae2 = mean_absolute_error(y_test, y_pred_test)\n",
        "\n",
        "vs1 = explained_variance_score(y_train, y_pred_train)\n",
        "vs2 = explained_variance_score(y_test, y_pred_test)\n",
        "\n",
        "print('mean_squared_error_train (MSE):', format(mse1,\".5f\"), '    ', 'mean_squared_error_test (MSE):', format(mse2,\".5f\"),)\n",
        "print('mean_absolute_error_train (MAE):', format(mae1,\".5f\"), '    ', 'mean_absolute_error_test (MAE):', format(mae2,\".5f\"),)\n",
        "print('Variance_score_train (VarScore):', format(vs1,\".5f\"), '    ', 'Variance_score_test (VarScore):', format(vs2,\".5f\"),)\n"
      ]
    },
    {
      "cell_type": "code",
      "execution_count": null,
      "metadata": {
        "id": "rA1epJ2RHDxD"
      },
      "outputs": [],
      "source": [
        "# Drawing the actual and estimated responses\n",
        "\n",
        "fig, axs = plt.subplots(figsize=(10, 6), tight_layout=True)\n",
        "\n",
        "plt.plot(y_train, '-b', label='Actual')\n",
        "plt.plot(y_pred_train, '.-r', label='Estimated')\n",
        "plt.xlabel(r'$ Samples $', fontsize=12)\n",
        "plt.ylabel(r'$ Amplitude $', fontsize=12)\n",
        "plt.title(r'Actual and Estimated response in Training Case', fontname= 'serif',fontsize=14, color='b')\n",
        "plt.ylim(np.min(y_train)-10, np.max(y_train)+300)\n",
        "plt.legend(fancybox=True, framealpha=1, shadow=True, borderpad=1, frameon=True, loc='upper center', ncol=2)\n",
        "plt.grid(True)\n",
        "plt.show()\n",
        "\n",
        "fig, axs = plt.subplots(figsize=(10, 6), tight_layout=True)\n",
        "plt.plot(y_test, '-b', label='Actual')\n",
        "plt.plot(y_pred_test, '.-r', label='Estimated')\n",
        "plt.xlabel(r'$ Samples $', fontsize=12)\n",
        "plt.ylabel(r'$ Amplitude $', fontsize=12)\n",
        "plt.title(r'Actual and Estimated response in Testing Case', fontname= 'serif',fontsize=14, color='b')\n",
        "plt.ylim(np.min(y_test)-10, np.max(y_test)+500)\n",
        "plt.grid(True)\n",
        "plt.legend(fancybox=True, framealpha=1, shadow=True, borderpad=1, frameon=True, loc='upper center', ncol=2)\n",
        "plt.savefig(r'C:\\Users\\Admin\\Desktop\\Data Science Class\\Simple_Linear_Regression\\Actual_Estimated.png')\n",
        "plt.show()"
      ]
    }
  ]
}